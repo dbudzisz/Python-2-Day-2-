{
 "cells": [
  {
   "cell_type": "markdown",
   "metadata": {},
   "source": [
    "# OOP - Encapsulation, Inheritance, Polymorphism, & Abstraction"
   ]
  },
  {
   "cell_type": "markdown",
   "metadata": {},
   "source": [
    "Exercise 1: Create a Temperature Converter program using OOP by creating a Temperature class with two private attributes to store Fahrenheit and Celsius degrees. In the Temperature class, define methods that \n",
    "- sets the private attributes. When you set one unit of temperature, it should calculate and set the other unit of temperature. For example, when you set degrees in Fahrenheit, it should calculate and set in Celsius degrees. \n",
    "- gets the hidden attributes that round the number to 2 decimal places. \n",
    "\n",
    "The output should look something like following:\n",
    "\n",
    "    MENU\n",
    "    1. Fahrenheit to Celsius\n",
    "    2. Celsius to Fahrenheit\n",
    "    3. Quit\n",
    "    \n",
    "    Enter a menu option: 1\n",
    "    Enter degrees in Fahrenheit: 99\n",
    "    99.00 oF is 37.22 oC.\n",
    "    \n",
    "    Enter a menu option: 2\n",
    "    Enter degrees in Celsius: 37.22\n",
    "    37.22 oC is 99.00 oF.\n",
    "    \n",
    "    Enter a menu option: 3\n",
    "    Bye\n"
   ]
  },
  {
   "cell_type": "code",
   "execution_count": 32,
   "metadata": {},
   "outputs": [],
   "source": [
    "class Temperature:\n",
    "    def __init__(self, temp):\n",
    "        self.__temp = temp\n",
    "            \n",
    "    def fahrenheit_to_celsius(self):\n",
    "        self.__value = (self.__temp - 32) * (5/9)\n",
    "        return f'{self.__value:,.2F}'\n",
    "    \n",
    "    def celsius_to_fahrenheit(self):\n",
    "        self.__value = self.__temp * (9/5) + 32\n",
    "        return f'{self.__value:,.2F}'\n",
    "        "
   ]
  },
  {
   "cell_type": "code",
   "execution_count": 34,
   "metadata": {},
   "outputs": [
    {
     "name": "stdout",
     "output_type": "stream",
     "text": [
      "MENU\n",
      "1. Fahrenheit to Celsius\n",
      "2. Celsius to Fahrenheit\n",
      "3. Quit\n",
      "\n",
      "\n",
      "Enter a menu option: 1\n",
      "Enter degrees in Fahrenheit: 45.454\n",
      "45.454 oF is 7.47 oC\n"
     ]
    }
   ],
   "source": [
    "print('MENU')\n",
    "print('1. Fahrenheit to Celsius')\n",
    "print('2. Celsius to Fahrenheit')\n",
    "print('3. Quit')\n",
    "print('\\n')\n",
    "\n",
    "while True:\n",
    "    choice = input('Enter a menu option: ')\n",
    "    if choice == 'Quit':\n",
    "        print('Bye')\n",
    "        break\n",
    "    \n",
    "        \n",
    "    if choice == '1':\n",
    "        choice_2 = float(input('Enter degrees in Fahrenheit: '))\n",
    "        temp_1 = Temperature(choice_2)\n",
    "        temp_celcisus = temp_1.fahrenheit_to_celsius()\n",
    "        print(f'{choice_2} oF is {temp_celcisus} oC')\n",
    "    elif choice =='2':\n",
    "        choice_3 = float(input('Enter degrees in Celcius: '))\n",
    "        temp_2 = Temperature(choice_3)\n",
    "        temp_fahrenheit = temp_2.celsius_to_fahrenheit()\n",
    "        print(f'{choice_3} oC is {temp_fahrenheit} oF')\n",
    "    else:\n",
    "        print('Invalid input!')\n",
    "    break\n",
    "        \n",
    "    \n",
    "    \n",
    "    "
   ]
  },
  {
   "cell_type": "markdown",
   "metadata": {},
   "source": [
    "Exercise 2: Create a Privileges class that has privileges, a private attribute. It can store a list of strings such as \"can add\", \"can delete\", and \"can modify\".  Write a method called show_privileges(). \n",
    "\n",
    "Create a class called Admin that inherits from the Person class (from Pyton 2 Day 2 Class Demo.ipynb - see next cell). Make a Privileges instance as an attribute in the Admin class. Create a new instance of Admin and use your method to show its privileges.\n"
   ]
  },
  {
   "cell_type": "code",
   "execution_count": 59,
   "metadata": {},
   "outputs": [],
   "source": [
    "class Privileges:\n",
    "    __privileges = 'can add', 'can delete', 'can modify'\n",
    "    \n",
    "    def show_privileges(self):\n",
    "        return f'Privaleges: {self.__privileges}'\n",
    "       "
   ]
  },
  {
   "cell_type": "code",
   "execution_count": 60,
   "metadata": {},
   "outputs": [],
   "source": [
    "class Person :\n",
    "    \n",
    "    def __init__(self, name, age, gender) :\n",
    "        self.__name = name\n",
    "        self.__age = age\n",
    "        self.__gender = gender\n",
    "\n",
    "    def get_name(self) :\n",
    "        return self.__name\n",
    "    \n",
    "    def get_info(self) :\n",
    "        return f\"Name: {self.__name}\\nAge: {self.__age}\\nGender: {self.__gender}\"\n",
    "\n",
    "class Admin(Person):\n",
    "    privileges = 'can add', 'can delete', 'can modify'\n",
    "    \n",
    "    def __init__(self,name,age,gender):\n",
    "        super().__init__(name, age, gender)\n",
    "    \n",
    "    def show_privileges(self):\n",
    "        return f'Privaleges: {self.privileges}'\n",
    "   "
   ]
  },
  {
   "cell_type": "code",
   "execution_count": 61,
   "metadata": {},
   "outputs": [
    {
     "name": "stdout",
     "output_type": "stream",
     "text": [
      "Privaleges: ('can add', 'can delete', 'can modify')\n"
     ]
    }
   ],
   "source": [
    "admin_1 = Admin('Bill', 42, 'Male')\n",
    "print(admin_1.show_privileges())"
   ]
  },
  {
   "cell_type": "markdown",
   "metadata": {},
   "source": [
    "Exercise 3:\n",
    "1. Use the Product class from Day 1 Class Demo - see next cell\n",
    "2. Add get_description() method to Product class\n",
    "3. Create Book class inherited from the Product class. Add author attribute to the Book class and make modification to get_description() method\n",
    "4. Create Movie class inherited from the Product class. Add year attributes. Add/modify necessary methods\n"
   ]
  },
  {
   "cell_type": "code",
   "execution_count": 26,
   "metadata": {},
   "outputs": [],
   "source": [
    "# From Day 1 Class Demo\n",
    "class Product : \n",
    "    \"\"\"A simple attempt to model a product.\"\"\"\n",
    "    \n",
    "    def __init__(self, name, price, discount_rate) :\n",
    "        \"\"\"Initialize name, price, and discount_rate attributes\"\"\"\n",
    "        self.name = name\n",
    "        self.price = price\n",
    "        self.discount_rate = discount_rate\n",
    "\n",
    "    def get_discount_amount(self) :\n",
    "        \"\"\"Computes a discount calculation\"\"\"\n",
    "        return self.price * self.discount_rate / 100\n",
    "    \n",
    "    def get_description(self):\n",
    "        return f'The product\\'s name is: {self.name}. It is offered at a sale price of: ${self.get_sale_price()}.'\n",
    "        \n",
    "    def get_info(self) :\n",
    "        return(f\"Name: {self.name}\\n\" + \n",
    "                f\"Price: {self.price}\\n\" +\n",
    "                f\"Disicount Amount: ${self.get_discount_amount():,.2f}\\n\" +\n",
    "                f\"Discounted Price: ${self.get_sale_price():,.2f}\")\n",
    "    \n",
    "    def get_sale_price(self) :\n",
    "        \"\"\"Calls another method to find a sale price\"\"\"\n",
    "        return self.price - self.get_discount_amount()     \n",
    "\n",
    "class Book(Product):\n",
    "    def __init__(self, author):\n",
    "        self.author = author\n",
    "    \n",
    "    def get_description(self):\n",
    "        info = f'The author of the book is {self.author}.'\n",
    "        return info\n",
    "\n",
    "class Movie(Product):\n",
    "    def __init__(self, year):\n",
    "        self.year = year\n",
    "        \n",
    "    def get_description(self):\n",
    "        info_2 =  f'The movie was released in {self.year}.'\n",
    "        return info_2\n",
    "    \n",
    "        \n",
    "    "
   ]
  },
  {
   "cell_type": "code",
   "execution_count": 31,
   "metadata": {},
   "outputs": [
    {
     "name": "stdout",
     "output_type": "stream",
     "text": [
      "The product's name is: Ishmael. It is offered at a sale price of: $9.0. The author of the book is Daniel Quinn.\n",
      "\n",
      "****************************************************************************************************\n",
      "\n",
      "The product's name is: Titanic. It is offered at a sale price of: $18.0. The movie was released in 1997.\n"
     ]
    }
   ],
   "source": [
    "book_product = Product('Ishmael', 10.0, 10)\n",
    "book = Book('Daniel Quinn')\n",
    "print(book_product.get_description(), book.get_description())\n",
    "\n",
    "print('')\n",
    "print('*'*100)\n",
    "print('')\n",
    "\n",
    "movie_product = Product('Titanic', 20.0, 10)\n",
    "movie = Movie(1997)\n",
    "print(movie_product.get_description(), movie.get_description())"
   ]
  },
  {
   "cell_type": "markdown",
   "metadata": {},
   "source": [
    "Exercise 4: Create an abstract class called Vehicle with \n",
    "- color, make, and year private attributes \n",
    "\n",
    "and abstract method called \n",
    "- get_info() which returns all information\n",
    "- honk() which returns a string of honking sound\n",
    "\n",
    "Create Car, Boat, and Bicycle class which is a child class of the Vehicle class.  Then, create an instance of each child class and call get_info() method to print out its information in a user friendly format. Add other methods as you like."
   ]
  },
  {
   "cell_type": "code",
   "execution_count": 187,
   "metadata": {},
   "outputs": [],
   "source": [
    "from abc import ABC, abstractmethod\n",
    "\n",
    "class Vehicle(ABC):\n",
    "    def __init__(self, color, make, year, honk):\n",
    "        self.__color = color\n",
    "        self.__make = make\n",
    "        self.__year = year\n",
    "        self.__honk = honk\n",
    "    \n",
    "    @abstractmethod\n",
    "    def get_info(self):\n",
    "        return  f'color is {self.__color}.\\nIt\\'s make is {self.__make} and was manufactured in the year {self.__year}.\\n'\n",
    "        \n",
    "    \n",
    "    @abstractmethod\n",
    "    def honk(self):\n",
    "        return f'honking sound is: {self.__honk}.'\n",
    "\n",
    "class Car(Vehicle):\n",
    "    def __init__(self, color, make, year, honk):\n",
    "        super().__init__(color, make, year, honk)\n",
    "    \n",
    "    def get_info(self):\n",
    "        return f'The car\\'s {super().get_info()}'\n",
    "    \n",
    "    def honk(self):\n",
    "        return f'The car\\'s {super().honk()}'\n",
    "    \n",
    "class Boat(Vehicle):\n",
    "    def __init__(self, color, make, year, honk):\n",
    "        super().__init__(color, make, year, honk)\n",
    "    \n",
    "    def get_info(self):\n",
    "        return f'The boat\\'s {super().get_info()}'\n",
    "    \n",
    "    def honk(self):\n",
    "        return f'The boat\\'s {super().honk()}'\n",
    "\n",
    "class Bicycle(Vehicle):\n",
    "    def __init__(self, color, make, year, honk):\n",
    "        super().__init__(color, make, year, honk)\n",
    "    \n",
    "    def get_info(self):\n",
    "        return f'The bicycle\\'s {super().get_info()}'\n",
    "    \n",
    "    def honk(self):\n",
    "        return f'The bicycle\\'s {super().honk()}'    "
   ]
  },
  {
   "cell_type": "code",
   "execution_count": 188,
   "metadata": {},
   "outputs": [
    {
     "name": "stdout",
     "output_type": "stream",
     "text": [
      "The car's color is Red.\n",
      "It's make is Kia and was manufactured in the year 2016.\n",
      " The car's honking sound is: Beep.\n",
      "\n",
      "***************************************************************************\n",
      "\n",
      "The boat's color is Wood.\n",
      "It's make is U.S. Navy and was manufactured in the year 1797.\n",
      " The boat's honking sound is: Arrgh.\n",
      "\n",
      "***************************************************************************\n",
      "\n",
      "The bicycle's color is Silver.\n",
      "It's make is Lectric and was manufactured in the year 2019.\n",
      " The bicycle's honking sound is: Ting Ting.\n"
     ]
    }
   ],
   "source": [
    "car = Car('Red', 'Kia', 2016, 'Beep')\n",
    "print(car.get_info(),car.honk())\n",
    "\n",
    "print('')\n",
    "print('*'*75)\n",
    "print('')\n",
    "\n",
    "boat = Boat('Wood', 'U.S. Navy', 1797, 'Arrgh')\n",
    "print(boat.get_info(), boat.honk())\n",
    "\n",
    "print('')\n",
    "print('*'*75)\n",
    "print('')\n",
    "\n",
    "bicycle = Bicycle('Silver', 'Lectric', 2019, 'Ting Ting')\n",
    "print(bicycle.get_info(), bicycle.honk())"
   ]
  },
  {
   "cell_type": "markdown",
   "metadata": {},
   "source": [
    "Exercise 5: Create an abstract class called Person with name and address attributes, and print_info() abstract method. \n",
    "1. Build an Employee class inherited from Person class that \n",
    "    - stores hired date and salary attributes \n",
    "    - print_info() method that will be used to print out all information about an employee\n",
    "    - a method to calculate employee's monthly pay where federal tax is 15%, MD tax is 4.5%, and a local tax is 3%.\n",
    "    \n",
    "2. Build a Customer class also inherited from Person class that\n",
    "    - stores balance attribute\n",
    "    - print_info() method that will be used to print out all information about a customer\n",
    "\n",
    "\n",
    "Build any method you need but apply encapsulation at all possible. Then, write a program to show your classes work with multiple employees and customers. \n",
    "\n",
    "CHALLENGE!!!\n",
    "Create an Address class and use it in Person class"
   ]
  },
  {
   "cell_type": "code",
   "execution_count": 174,
   "metadata": {},
   "outputs": [],
   "source": [
    "from abc import ABC, abstractmethod\n",
    "\n",
    "class Person():\n",
    "    def __init__(self, name, address):\n",
    "        self.__name = name\n",
    "        self.__address = address\n",
    "    \n",
    "    @abstractmethod\n",
    "    def print_info(self):\n",
    "        return f'{self.__name} resides at {self.__address}.'\n",
    "\n",
    "class Employee(Person):\n",
    "    def __init__(self, name, address):\n",
    "        super().__init__(name, address)\n",
    "        self.__hire_date = None\n",
    "        self.__salary = None\n",
    "    \n",
    "    def salary(self, salary, hire_date):\n",
    "        self.__salary = salary\n",
    "        self.__hire_date = hire_date\n",
    "        \n",
    "    #def salary(self, salary, hire_date):\n",
    "     #   self.__salary = salary\n",
    "      #  self.__hire_date = hire_date\n",
    "    \n",
    "    def print_info(self):\n",
    "        return f'{super().print_info()}\\nThe employee was hired {self.__hire_date} and their yearly salary is ${self.__salary}.\\n{self.pay()}.'\n",
    "    \n",
    "    def pay(self):\n",
    "        return f'The employee\\'s monthly pay before tax is: ${(self.__salary/12):,.2f}.\\nThe employee\\'s monthly pay after tax is: $ {((self.__salary/12) - (self.__salary/12)*(0.225)):,.2f}'\n",
    "\n",
    "class Customer(Person):\n",
    "    def __init__(self, name, address):\n",
    "        super().__init__(name, address)\n",
    "        self.__balance = None\n",
    "        self.__delivery_date = None\n",
    "    \n",
    "    def balance_delivery(self, balance, delivery):\n",
    "        self.__balance = balance\n",
    "        self.__delivery_date = delivery\n",
    "    \n",
    "    def print_info(self):\n",
    "        return f'{super().print_info()} The customer\\'s order balance is: ${self.__balance}. The order delivery date is: {self.__delivery_date}.'"
   ]
  },
  {
   "cell_type": "code",
   "execution_count": 175,
   "metadata": {},
   "outputs": [
    {
     "name": "stdout",
     "output_type": "stream",
     "text": [
      "Dominick Budzisz resides at Rockville, MD.\n",
      "The employee was hired 01Jun2020 and their yearly salary is $80000.\n",
      "The employee's monthly pay before tax is: $6,666.67.\n",
      "The employee's monthly pay after tax is: $ 5,166.67.\n",
      "\n",
      "***************************************************************************\n",
      "\n",
      "Jaxon Borsellino resides at Houston, TX.\n",
      "The employee was hired 01Nov2020 and their yearly salary is $90000.\n",
      "The employee's monthly pay before tax is: $7,500.00.\n",
      "The employee's monthly pay after tax is: $ 5,812.50.\n",
      "\n",
      "***************************************************************************\n",
      "\n",
      "Juliette Wander resides at Rockville, MD. The customer's order balance is: $100. The order delivery date is: 03Nov2020.\n",
      "\n",
      "***************************************************************************\n",
      "\n",
      "Elaine Stevens resides at Tyler, TX. The customer's order balance is: $650. The order delivery date is: 21Nov2020.\n",
      "\n",
      "***************************************************************************\n",
      "\n"
     ]
    }
   ],
   "source": [
    "employee_1 = Employee('Dominick Budzisz', 'Rockville, MD')\n",
    "employee_1.salary(80000, '01Jun2020')\n",
    "print(employee_1.print_info())\n",
    "\n",
    "print('')\n",
    "print('*'*75)\n",
    "print('')\n",
    "\n",
    "employee_1 = Employee('Jaxon Borsellino', 'Houston, TX')\n",
    "employee_1.salary(90000, '01Nov2020')\n",
    "print(employee_1.print_info())\n",
    "\n",
    "print('')\n",
    "print('*'*75)\n",
    "print('')\n",
    "\n",
    "customer_1 = Customer('Juliette Wander', 'Rockville, MD')\n",
    "customer_1.balance_delivery(100, '03Nov2020')\n",
    "print(customer_1.print_info())\n",
    "\n",
    "print('')\n",
    "print('*'*75)\n",
    "print('')\n",
    "\n",
    "customer_1 = Customer('Elaine Stevens', 'Tyler, TX')\n",
    "customer_1.balance_delivery(650, '21Nov2020')\n",
    "print(customer_1.print_info())\n",
    "\n",
    "print('')\n",
    "print('*'*75)\n",
    "print('')\n"
   ]
  },
  {
   "cell_type": "code",
   "execution_count": null,
   "metadata": {},
   "outputs": [],
   "source": []
  }
 ],
 "metadata": {
  "kernelspec": {
   "display_name": "Python 3",
   "language": "python",
   "name": "python3"
  },
  "language_info": {
   "codemirror_mode": {
    "name": "ipython",
    "version": 3
   },
   "file_extension": ".py",
   "mimetype": "text/x-python",
   "name": "python",
   "nbconvert_exporter": "python",
   "pygments_lexer": "ipython3",
   "version": "3.8.3"
  }
 },
 "nbformat": 4,
 "nbformat_minor": 4
}
